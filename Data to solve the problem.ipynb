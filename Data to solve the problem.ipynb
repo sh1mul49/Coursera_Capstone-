{
 "cells": [
  {
   "cell_type": "markdown",
   "metadata": {},
   "source": [
    "# Data"
   ]
  },
  {
   "cell_type": "markdown",
   "metadata": {},
   "source": [
    "My business recommendation is based on foursquare location data. So, At fast I will extract geographical coordinates of\n",
    "Dhaka using python package and then create a foursquare url using my foursquare client_id, client_secret.. etc. Finally,\n",
    "extract the required data as json format. And Now we will extract required features such as venue_name, venue_category, \n",
    "venue_crossStreet, venue distance from the center point of Dhaka city, venue longitude, venue latitude and these features will used to complete the project."
   ]
  },
  {
   "cell_type": "code",
   "execution_count": null,
   "metadata": {},
   "outputs": [],
   "source": []
  }
 ],
 "metadata": {
  "kernelspec": {
   "display_name": "Python 3",
   "language": "python",
   "name": "python3"
  },
  "language_info": {
   "codemirror_mode": {
    "name": "ipython",
    "version": 3
   },
   "file_extension": ".py",
   "mimetype": "text/x-python",
   "name": "python",
   "nbconvert_exporter": "python",
   "pygments_lexer": "ipython3",
   "version": "3.7.6"
  }
 },
 "nbformat": 4,
 "nbformat_minor": 4
}

{
 "cells": [
  {
   "cell_type": "markdown",
   "metadata": {},
   "source": [
    "# Introduction to Business Problem"
   ]
  },
  {
   "cell_type": "markdown",
   "metadata": {},
   "source": [
    "I live in Dhaka, Bangladesh. Dhaka is the capital and largest city in Bangladesh. As well as it is the ninth largest and the\n",
    "sixth-most densely population city in the world, as of 2011. In addition, it is the financial, commercial capital of \n",
    "Bangladesh. In this project, I will recommend to those investor or stackholders they want to invest in Dhaka but they don’t\n",
    "know which types of business should be start or which types of business return most value."
   ]
  }
 ],
 "metadata": {
  "kernelspec": {
   "display_name": "Python 3",
   "language": "python",
   "name": "python3"
  },
  "language_info": {
   "codemirror_mode": {
    "name": "ipython",
    "version": 3
   },
   "file_extension": ".py",
   "mimetype": "text/x-python",
   "name": "python",
   "nbconvert_exporter": "python",
   "pygments_lexer": "ipython3",
   "version": "3.7.6"
  }
 },
 "nbformat": 4,
 "nbformat_minor": 4
}

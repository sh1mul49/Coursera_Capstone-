{
 "cells": [
  {
   "cell_type": "markdown",
   "metadata": {},
   "source": [
    "# Data"
   ]
  },
  {
   "cell_type": "markdown",
   "metadata": {},
   "source": [
    "My business recommendation is only based on foursquare location data and not others dataset used to check risk or safety like this because we know that Bagladesh is not rich country that why their web portal is very week and required data are not available on online. So, I am sorry for that. \n",
    "So, At fast I will extract geographical coordinates of Dhaka using python package and then create a foursquare url using my foursquare client_id, client_secret.. etc. Finally,extract the required data as json format. And Now we will extract required features such as\n"
   ]
  },
  {
   "cell_type": "markdown",
   "metadata": {},
   "source": [
    "venue_name"
   ]
  },
  {
   "cell_type": "markdown",
   "metadata": {},
   "source": [
    "venue_category"
   ]
  },
  {
   "cell_type": "markdown",
   "metadata": {},
   "source": [
    "venue_crossStreet"
   ]
  },
  {
   "cell_type": "markdown",
   "metadata": {},
   "source": [
    "venue distance from the center point of Dhaka city"
   ]
  },
  {
   "cell_type": "markdown",
   "metadata": {},
   "source": [
    "venue longitude"
   ]
  },
  {
   "cell_type": "markdown",
   "metadata": {},
   "source": [
    "venue latitude"
   ]
  },
  {
   "cell_type": "code",
   "execution_count": null,
   "metadata": {},
   "outputs": [],
   "source": []
  }
 ],
 "metadata": {
  "kernelspec": {
   "display_name": "Python 3",
   "language": "python",
   "name": "python3"
  },
  "language_info": {
   "codemirror_mode": {
    "name": "ipython",
    "version": 3
   },
   "file_extension": ".py",
   "mimetype": "text/x-python",
   "name": "python",
   "nbconvert_exporter": "python",
   "pygments_lexer": "ipython3",
   "version": "3.7.6"
  }
 },
 "nbformat": 4,
 "nbformat_minor": 4
}
